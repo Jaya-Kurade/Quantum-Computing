{
 "cells": [
  {
   "cell_type": "code",
   "execution_count": 2,
   "id": "dd8ef72d",
   "metadata": {},
   "outputs": [],
   "source": [
    "from qiskit import QuantumCircuit, QuantumRegister, ClassicalRegister, transpile\n",
    "from qiskit_aer import AerSimulator # Modern simulator from qiskit-aer\n",
    "from qiskit.visualization import plot_histogram, circuit_drawer # plot_state_city is less direct for probabilities\n",
    "import matplotlib.pyplot as plt\n",
    "import numpy as np\n",
    "import math\n"
   ]
  },
  {
   "cell_type": "markdown",
   "id": "05fe18a1",
   "metadata": {},
   "source": [
    "#Configuration\n"
   ]
  },
  {
   "cell_type": "code",
   "execution_count": 3,
   "id": "7a407c22",
   "metadata": {},
   "outputs": [],
   "source": [
    "NUM_QUBITS = 2\n",
    "MARKED_ITEM_BINARY = \"10\" # Example: searching for the state |10>\n",
    "TOTAL_ITEMS = 2**NUM_QUBITS\n",
    "PLOT_STATE_EVOLUTION = True # Set to False to disable intermediate state plotting"
   ]
  },
  {
   "cell_type": "markdown",
   "id": "d4536d6a",
   "metadata": {},
   "source": [
    "#Validate Configuration"
   ]
  },
  {
   "cell_type": "code",
   "execution_count": 4,
   "id": "2f755dcb",
   "metadata": {},
   "outputs": [
    {
     "name": "stdout",
     "output_type": "stream",
     "text": [
      "--- Quantum Peek-a-Boo ---\n",
      "Goal: Find the marked item '10' among 4 items.\n",
      "Quantum system will use 2 qubits.\n",
      "Plotting state evolution: True\n",
      "----------------------------------------\n"
     ]
    }
   ],
   "source": [
    "if len(MARKED_ITEM_BINARY) != NUM_QUBITS:\n",
    "    raise ValueError(f\"MARKED_ITEM_BINARY ('{MARKED_ITEM_BINARY}') must have length {NUM_QUBITS}\")\n",
    "if not all(c in '01' for c in MARKED_ITEM_BINARY):\n",
    "    raise ValueError(f\"MARKED_ITEM_BINARY ('{MARKED_ITEM_BINARY}') must contain only '0' or '1'\")\n",
    "\n",
    "print(f\"--- Quantum Peek-a-Boo ---\")\n",
    "print(f\"Goal: Find the marked item '{MARKED_ITEM_BINARY}' among {TOTAL_ITEMS} items.\")\n",
    "print(f\"Quantum system will use {NUM_QUBITS} qubits.\")\n",
    "print(f\"Plotting state evolution: {PLOT_STATE_EVOLUTION}\")\n",
    "print(\"-\" * 40)"
   ]
  },
  {
   "cell_type": "markdown",
   "id": "81683d1c",
   "metadata": {},
   "source": [
    "# Classical search Implementation"
   ]
  },
  {
   "cell_type": "code",
   "execution_count": 5,
   "id": "c98abab6",
   "metadata": {},
   "outputs": [
    {
     "name": "stdout",
     "output_type": "stream",
     "text": [
      "\n",
      "--- Classical Search ---\n",
      "Searching for item at decimal index: 2 (binary: 10)\n",
      "Classical: Toy FOUND in box '10' (decimal 2) after 3 check(s).\n",
      "Classical Complexity: O(N). For 4 items, worst case is 4 checks.\n",
      "----------------------------------------\n"
     ]
    }
   ],
   "source": [
    "def classical_search(num_total_items, marked_item_str_binary):\n",
    "    print(\"\\n--- Classical Search ---\")\n",
    "    marked_idx_decimal = int(marked_item_str_binary, 2)\n",
    "    checks = 0\n",
    "    found = False\n",
    "    print(f\"Searching for item at decimal index: {marked_idx_decimal} (binary: {marked_item_str_binary})\")\n",
    "    for i in range(num_total_items):\n",
    "        checks += 1\n",
    "        current_item_binary = format(i, f'0{NUM_QUBITS}b')\n",
    "        if i == marked_idx_decimal:\n",
    "            print(f\"Classical: Toy FOUND in box '{current_item_binary}' (decimal {i}) after {checks} check(s).\")\n",
    "            found = True\n",
    "            break\n",
    "    if not found:\n",
    "        print(\"Classical: Toy not found. This indicates an issue.\")\n",
    "    print(f\"Classical Complexity: O(N). For {num_total_items} items, worst case is {num_total_items} checks.\")\n",
    "    return checks\n",
    "\n",
    "classical_num_checks = classical_search(TOTAL_ITEMS, MARKED_ITEM_BINARY)\n",
    "print(\"-\" * 40)"
   ]
  },
  {
   "cell_type": "code",
   "execution_count": 6,
   "id": "7108bdf1",
   "metadata": {},
   "outputs": [],
   "source": [
    "# Helper Function to plot probabilitis from Statevector\n",
    "def plot_probabilities_from_statevector(statevector, title_suffix=\"\"):\n",
    "    \"\"\"Calculates probabilities from statevector and plots them as a bar chart.\"\"\"\n",
    "    if not PLOT_STATE_EVOLUTION:\n",
    "        return\n",
    "\n",
    "    num_states = len(statevector)\n",
    "    # Qiskit statevector is typically ordered |0...00>, |0...01>, ..., |1...11>\n",
    "    # So, labels should be 0 to 2^N - 1 in binary form.\n",
    "    labels = [format(i, f'0{NUM_QUBITS}b') for i in range(num_states)]\n",
    "\n",
    "    probabilities = np.abs(statevector)**2 # Probabilities are squared magnitudes of amplitudes\n",
    "\n",
    "    fig, ax = plt.subplots(figsize=(max(6, num_states * 0.8), 5)) # Adjust width based on num_states\n",
    "    bars = ax.bar(labels, probabilities, color='deepskyblue', edgecolor='black')\n",
    "    ax.set_xlabel(\"Computational Basis State\")\n",
    "    ax.set_ylabel(\"Probability\")\n",
    "    ax.set_title(f\"State Probabilities {title_suffix}\")\n",
    "    ax.set_ylim(0, 1.05)\n",
    "    ax.tick_params(axis='x', rotation=45 if num_states > 4 else 0) # Rotate labels if many states\n",
    "\n",
    "    # Add probability values on top of bars\n",
    "    for bar_idx, bar in enumerate(bars):\n",
    "        yval = bar.get_height()\n",
    "        # Highlight the marked item's bar\n",
    "        if labels[bar_idx] == MARKED_ITEM_BINARY:\n",
    "            bar.set_color('salmon')\n",
    "            bar.set_edgecolor('darkred')\n",
    "        ax.text(bar.get_x() + bar.get_width()/2.0, yval + 0.02, f'{yval:.3f}', ha='center', va='bottom', fontsize=9)\n",
    "\n",
    "    plt.tight_layout()\n",
    "    filename_suffix = title_suffix.lower().replace(' ', '_').replace('(', '').replace(')', '').replace(':', '')\n",
    "    filename = f\"state_probs_{filename_suffix}.png\"\n",
    "    plt.savefig(filename)\n",
    "    print(f\"  State probability plot saved to {filename}\")\n",
    "    # plt.show() # Uncomment to display plots immediately if not in a script/Colab"
   ]
  },
  {
   "cell_type": "markdown",
   "id": "31029e8d",
   "metadata": {},
   "source": [
    "# Quantum Search (Grover's Algorithms)\n",
    "\n"
   ]
  },
  {
   "cell_type": "code",
   "execution_count": 7,
   "id": "90855e3f",
   "metadata": {},
   "outputs": [
    {
     "name": "stdout",
     "output_type": "stream",
     "text": [
      "\n",
      "--- Quantum Search (Grover's Algorithm) ---\n",
      "Step 1: Initializing qubits to equal superposition using Hadamard gates.\n",
      "\n",
      "  Simulating initial state (after Superposition)...\n"
     ]
    },
    {
     "name": "stderr",
     "output_type": "stream",
     "text": [
      "C:\\Users\\jayak\\AppData\\Local\\Temp\\ipykernel_4696\\4270146932.py:7: DeprecationWarning: The return type of saved statevectors has been changed from a `numpy.ndarray` to a `qiskit.quantum_info.Statevector` as of qiskit-aer 0.10. Accessing numpy array attributes is deprecated and will result in an error in a future release. To continue using saved result objects as arrays you can explicitly cast them using  `np.asarray(object)`.\n",
      "  num_states = len(statevector)\n"
     ]
    },
    {
     "name": "stdout",
     "output_type": "stream",
     "text": [
      "  State probability plot saved to state_probs_after_initial_superposition.png\n",
      "\n",
      "Step 2: Performing 1 Grover iteration(s).\n",
      "\n",
      "  --- Iteration 1 ---\n",
      "\n",
      "  Simulating state after Iteration 1...\n",
      "  State probability plot saved to state_probs_after_iteration_1.png\n",
      "\n",
      "Step 3: Measuring all qubits (for final histogram).\n"
     ]
    },
    {
     "data": {
      "image/png": "[encoded data removed]",
      "text/plain": [
       "<Figure size 600x500 with 1 Axes>"
      ]
     },
     "metadata": {},
     "output_type": "display_data"
    },
    {
     "data": {
      "image/png": "[encoded data removed]",
      "text/plain": [
       "<Figure size 600x500 with 1 Axes>"
      ]
     },
     "metadata": {},
     "output_type": "display_data"
    }
   ],
   "source": [
    "print(\"\\n--- Quantum Search (Grover's Algorithm) ---\")\n",
    "\n",
    "qr = QuantumRegister(NUM_QUBITS, 'q')\n",
    "# Circuit for statevector evolution (no classical register initially)\n",
    "grover_circuit_sv = QuantumCircuit(qr)\n",
    "\n",
    "# === Step 1: Initialization - Create Superposition ===\n",
    "print(\"Step 1: Initializing qubits to equal superposition using Hadamard gates.\")\n",
    "grover_circuit_sv.h(qr)\n",
    "\n",
    "# --- Simulate and plot initial state (after H gates) ---\n",
    "if PLOT_STATE_EVOLUTION:\n",
    "    print(\"\\n  Simulating initial state (after Superposition)...\")\n",
    "    statevector_sim = AerSimulator(method='statevector') # Use AerSimulator for statevector\n",
    "    temp_circuit_initial = grover_circuit_sv.copy()\n",
    "    temp_circuit_initial.save_statevector() # Instruction to save the statevector\n",
    "\n",
    "    # Transpile for the specific simulator\n",
    "    transpiled_initial_circuit = transpile(temp_circuit_initial, statevector_sim)\n",
    "    result_initial = statevector_sim.run(transpiled_initial_circuit).result()\n",
    "    initial_statevector = result_initial.get_statevector(temp_circuit_initial) # Use original circuit for get_statevector\n",
    "    plot_probabilities_from_statevector(initial_statevector, title_suffix=\"After Initial Superposition\")\n",
    "\n",
    "grover_circuit_sv.barrier()\n",
    "\n",
    "# === Step 2: Grover Iterations (Oracle + Diffuser) ===\n",
    "num_grover_iterations = math.floor( (math.pi / 4) * math.sqrt(TOTAL_ITEMS) )\n",
    "if num_grover_iterations == 0: num_grover_iterations = 1\n",
    "print(f\"\\nStep 2: Performing {num_grover_iterations} Grover iteration(s).\")\n",
    "\n",
    "for iteration in range(num_grover_iterations):\n",
    "    print(f\"\\n  --- Iteration {iteration + 1} ---\")\n",
    "    # --- Oracle Construction ---\n",
    "    # (Verbose printing of oracle steps removed for brevity, logic remains the same)\n",
    "    for qubit_index in range(NUM_QUBITS):\n",
    "        if MARKED_ITEM_BINARY[NUM_QUBITS - 1 - qubit_index] == '0':\n",
    "            grover_circuit_sv.x(qr[qubit_index])\n",
    "    if NUM_QUBITS == 1: grover_circuit_sv.z(qr[0])\n",
    "    elif NUM_QUBITS == 2: grover_circuit_sv.cz(qr[0], qr[1])\n",
    "    else: grover_circuit_sv.mcz(qr[:-1], qr[-1])\n",
    "    for qubit_index in range(NUM_QUBITS):\n",
    "        if MARKED_ITEM_BINARY[NUM_QUBITS - 1 - qubit_index] == '0':\n",
    "            grover_circuit_sv.x(qr[qubit_index])\n",
    "    grover_circuit_sv.barrier(label=f\"Oracle_{iteration+1}\")\n",
    "\n",
    "    # --- Diffuser (Amplitude Amplification) Construction ---\n",
    "    grover_circuit_sv.h(qr)\n",
    "    grover_circuit_sv.x(qr)\n",
    "    if NUM_QUBITS == 1: grover_circuit_sv.z(qr[0])\n",
    "    elif NUM_QUBITS == 2: grover_circuit_sv.cz(qr[0], qr[1])\n",
    "    else: grover_circuit_sv.mcz(qr[:-1], qr[-1])\n",
    "    grover_circuit_sv.x(qr)\n",
    "    grover_circuit_sv.h(qr)\n",
    "    grover_circuit_sv.barrier(label=f\"Diffuser_{iteration+1}\")\n",
    "\n",
    "    # --- Simulate and plot state after this iteration ---\n",
    "    if PLOT_STATE_EVOLUTION:\n",
    "        print(f\"\\n  Simulating state after Iteration {iteration + 1}...\")\n",
    "        temp_circuit_iter = grover_circuit_sv.copy()\n",
    "        temp_circuit_iter.save_statevector()\n",
    "\n",
    "        transpiled_iter_circuit = transpile(temp_circuit_iter, statevector_sim)\n",
    "        result_iter = statevector_sim.run(transpiled_iter_circuit).result()\n",
    "        iter_statevector = result_iter.get_statevector(temp_circuit_iter)\n",
    "        plot_probabilities_from_statevector(iter_statevector, title_suffix=f\"After Iteration {iteration + 1}\")\n",
    "\n",
    "# === Step 3: Measurement (Simulate with QASM for final histogram) ===\n",
    "# Create a new circuit for measurement by copying the statevector circuit\n",
    "# and adding classical register and measurement.\n",
    "cr = ClassicalRegister(NUM_QUBITS, 'c')\n",
    "measurement_circuit = grover_circuit_sv.copy(name=\"Grover_Measurement_Circuit\")\n",
    "measurement_circuit.add_register(cr)\n",
    "measurement_circuit.measure(qr, cr)\n",
    "\n",
    "print(\"\\nStep 3: Measuring all qubits (for final histogram).\")"
   ]
  },
  {
   "cell_type": "code",
   "execution_count": 8,
   "id": "e1eb9a76",
   "metadata": {},
   "outputs": [
    {
     "name": "stdout",
     "output_type": "stream",
     "text": [
      "\n",
      "--- Quantum Circuit Diagram (Full, with Measurement) ---\n",
      "     ┌───┐ ░ ┌───┐   ┌───┐ Oracle_1 ┌───┐┌───┐   ┌───┐┌───┐ Diffuser_1 ┌─┐   \n",
      "q_0: ┤ H ├─░─┤ X ├─■─┤ X ├────░─────┤ H ├┤ X ├─■─┤ X ├┤ H ├─────░──────┤M├───\n",
      "     ├───┤ ░ └───┘ │ └───┘    ░     ├───┤├───┤ │ ├───┤├───┤     ░      └╥┘┌─┐\n",
      "q_1: ┤ H ├─░───────■──────────░─────┤ H ├┤ X ├─■─┤ X ├┤ H ├─────░───────╫─┤M├\n",
      "     └───┘ ░                  ░     └───┘└───┘   └───┘└───┘     ░       ║ └╥┘\n",
      "c: 2/═══════════════════════════════════════════════════════════════════╩══╩═\n",
      "                                                                        0  1 \n",
      "\n",
      "Full quantum circuit diagram saved to quantum_peek_a_boo_circuit_full.png\n"
     ]
    }
   ],
   "source": [
    "# Print and visualize Quantum Circuit\n",
    "print(\"\\n--- Quantum Circuit Diagram (Full, with Measurement) ---\")\n",
    "try:\n",
    "    # For nicer plots if pylatexenc is installed\n",
    "    print(measurement_circuit.draw(output='text', fold=-1))\n",
    "    circuit_fig = measurement_circuit.draw(output='mpl', style={'figwidth': 15, 'fold': 25})\n",
    "    circuit_fig.savefig(\"quantum_peek_a_boo_circuit_full.png\")\n",
    "    print(\"\\nFull quantum circuit diagram saved to quantum_peek_a_boo_circuit_full.png\")\n",
    "except ImportError:\n",
    "    print(\"Install pylatexenc for better circuit diagrams: pip install pylatexenc\")\n",
    "    print(measurement_circuit.draw(output='text', fold=-1))\n",
    "except Exception as e:\n",
    "    print(f\"Could not draw circuit with mpl: {e}\")\n",
    "    print(measurement_circuit.draw(output='text', fold=-1))"
   ]
  },
  {
   "cell_type": "code",
   "execution_count": 10,
   "id": "ebd00e24",
   "metadata": {},
   "outputs": [
    {
     "name": "stdout",
     "output_type": "stream",
     "text": [
      "\n",
      "--- Simulating Final Measurement with QASM Simulator ---\n",
      "\n",
      "Measurement Results from 2048 shots:\n",
      "{'10': 2048}\n",
      "\n",
      "Final measurement histogram saved to quantum_peek_a_boo_results_final.png\n"
     ]
    },
    {
     "data": {
      "image/png": "[encoded data removed]",
      "text/plain": [
       "<Figure size 640x480 with 1 Axes>"
      ]
     },
     "metadata": {},
     "output_type": "display_data"
    }
   ],
   "source": [
    "# Simulate with QASM Simulator for Measurement Counts\n",
    "print(\"\\n--- Simulating Final Measurement with QASM Simulator ---\")\n",
    "qasm_simulator = AerSimulator() # Default method is 'automatic', often chooses qasm\n",
    "compiled_measurement_circuit = transpile(measurement_circuit, qasm_simulator)\n",
    "num_shots = 2048\n",
    "job = qasm_simulator.run(compiled_measurement_circuit, shots=num_shots)\n",
    "result = job.result()\n",
    "counts = result.get_counts(compiled_measurement_circuit)\n",
    "\n",
    "print(f\"\\nMeasurement Results from {num_shots} shots:\")\n",
    "print(counts)\n",
    "\n",
    "# --- Plot Histogram of Final Results ---\n",
    "fig_hist, ax_hist = plt.subplots()\n",
    "plot_histogram(counts, ax=ax_hist, title=f\"Grover's Search for '{MARKED_ITEM_BINARY}' (N={TOTAL_ITEMS}) - Final Measurement\")\n",
    "fig_hist.tight_layout()\n",
    "plt.savefig(\"quantum_peek_a_boo_results_final.png\")\n",
    "print(\"\\nFinal measurement histogram saved to quantum_peek_a_boo_results_final.png\")"
   ]
  },
  {
   "cell_type": "markdown",
   "id": "87d88c64",
   "metadata": {},
   "source": [
    "# Final Conclusion and Comparision"
   ]
  },
  {
   "cell_type": "code",
   "execution_count": 11,
   "id": "c738fa50",
   "metadata": {},
   "outputs": [
    {
     "name": "stdout",
     "output_type": "stream",
     "text": [
      "\n",
      "--- Conclusion & Comparison ---\n",
      "Classical Search: Required 3 check(s) to find '10'.\n",
      "Quantum Search (Grover's): Used 1 'quantum query/queries' (Oracle + Diffuser steps).\n",
      "  After final measurement simulation, the most probable state was '10'.\n",
      "  The target marked item '10' was measured with a probability of 100.00%.\n",
      "  Success! The quantum algorithm found the marked item '10' with high probability.\n",
      "\n",
      "Why is Quantum Better Here (Theoretically)?\n",
      "1. Parallelism via Superposition: Quantum computer initializes to explore all 4 items simultaneously.\n",
      "   (Visualized by the 'After Initial Superposition' plot showing equal probabilities).\n",
      "2. Quantum Query (Oracle): 'Marks' the target item by changing its phase.\n",
      "3. Amplitude Amplification (Diffuser): Systematically increases the probability of measuring the marked item.\n",
      "   (Visualized by the 'After Iteration X' plots showing the marked state's probability growing).\n",
      "\n",
      "Scaling Advantage:\n",
      "  - Classical Search Complexity: O(N) queries/checks. For 4 items, up to 4 checks.\n",
      "  - Quantum Search (Grover's) Complexity: O(sqrt(N)) quantum queries. For 4 items, ~1 Grover iteration(s).\n",
      "\n",
      "For large N (e.g., millions of items):\n",
      "  - Classical: Millions of checks.\n",
      "  - Quantum: Thousands of quantum queries (sqrt(Millions)).\n",
      "This difference in how the number of operations scales with the problem size (N) is the fundamental quantum advantage for search problems.\n",
      "While for N=4, classical is fast, the *principle of scaling* is what this project demonstrates.\n"
     ]
    }
   ],
   "source": [
    "print(\"\\n--- Conclusion & Comparison ---\")\n",
    "print(f\"Classical Search: Required {classical_num_checks} check(s) to find '{MARKED_ITEM_BINARY}'.\")\n",
    "print(f\"Quantum Search (Grover's): Used {num_grover_iterations} 'quantum query/queries' (Oracle + Diffuser steps).\")\n",
    "\n",
    "most_probable_quantum_outcome = \"\"\n",
    "if counts: # Check if counts dictionary is not empty\n",
    "    most_probable_quantum_outcome = max(counts, key=counts.get)\n",
    "    probability_of_marked_item = (counts.get(MARKED_ITEM_BINARY, 0) / num_shots) * 100\n",
    "    print(f\"  After final measurement simulation, the most probable state was '{most_probable_quantum_outcome}'.\")\n",
    "    print(f\"  The target marked item '{MARKED_ITEM_BINARY}' was measured with a probability of {probability_of_marked_item:.2f}%.\")\n",
    "\n",
    "    if most_probable_quantum_outcome == MARKED_ITEM_BINARY:\n",
    "        print(f\"  Success! The quantum algorithm found the marked item '{MARKED_ITEM_BINARY}' with high probability.\")\n",
    "    else:\n",
    "        print(f\"  Note: The most probable outcome '{most_probable_quantum_outcome}' was not the marked item '{MARKED_ITEM_BINARY}'.\")\n",
    "        print(\"    This can happen due to: \")\n",
    "        print(\"      - Not enough Grover iterations (especially if N is not a power of 4 for simple sqrt(N) iterations).\")\n",
    "        print(\"      - Probabilistic nature of quantum measurement (even with high probability, other outcomes are possible).\")\n",
    "        print(\"      - For N=4, 1 iteration is generally optimal and gives high success.\")\n",
    "else:\n",
    "    print(\"  No measurement counts obtained from simulation.\")\n",
    "\n",
    "\n",
    "print(\"\\nWhy is Quantum Better Here (Theoretically)?\")\n",
    "print(f\"1. Parallelism via Superposition: Quantum computer initializes to explore all {TOTAL_ITEMS} items simultaneously.\")\n",
    "if PLOT_STATE_EVOLUTION: print(f\"   (Visualized by the 'After Initial Superposition' plot showing equal probabilities).\")\n",
    "print(f\"2. Quantum Query (Oracle): 'Marks' the target item by changing its phase.\")\n",
    "print(f\"3. Amplitude Amplification (Diffuser): Systematically increases the probability of measuring the marked item.\")\n",
    "if PLOT_STATE_EVOLUTION: print(f\"   (Visualized by the 'After Iteration X' plots showing the marked state's probability growing).\")\n",
    "\n",
    "print(f\"\\nScaling Advantage:\")\n",
    "print(f\"  - Classical Search Complexity: O(N) queries/checks. For {TOTAL_ITEMS} items, up to {TOTAL_ITEMS} checks.\")\n",
    "print(f\"  - Quantum Search (Grover's) Complexity: O(sqrt(N)) quantum queries. For {TOTAL_ITEMS} items, ~{num_grover_iterations} Grover iteration(s).\")\n",
    "print(f\"\\nFor large N (e.g., millions of items):\")\n",
    "print(f\"  - Classical: Millions of checks.\")\n",
    "print(f\"  - Quantum: Thousands of quantum queries (sqrt(Millions)).\")\n",
    "print(\"This difference in how the number of operations scales with the problem size (N) is the fundamental quantum advantage for search problems.\")\n",
    "print(\"While for N=4, classical is fast, the *principle of scaling* is what this project demonstrates.\")"
   ]
  },
  {
   "cell_type": "code",
   "execution_count": null,
   "id": "6f49c739",
   "metadata": {},
   "outputs": [],
   "source": []
  }
 ],
 "metadata": {
  "kernelspec": {
   "display_name": "cwq",
   "language": "python",
   "name": "python3"
  },
  "language_info": {
   "codemirror_mode": {
    "name": "ipython",
    "version": 3
   },
   "file_extension": ".py",
   "mimetype": "text/x-python",
   "name": "python",
   "nbconvert_exporter": "python",
   "pygments_lexer": "ipython3",
   "version": "3.13.2"
  }
 },
 "nbformat": 4,
 "nbformat_minor": 5
}
